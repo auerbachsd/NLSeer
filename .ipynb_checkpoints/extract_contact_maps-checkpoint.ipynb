{
 "cells": [
  {
   "cell_type": "code",
   "execution_count": 2,
   "metadata": {},
   "outputs": [],
   "source": [
    "import numpy as np\n",
    "from Bio.PDB import PDBParser\n",
    "import os\n",
    "import matplotlib.pyplot as plt\n",
    "\n",
    "\n",
    "\n"
   ]
  },
  {
   "cell_type": "code",
   "execution_count": null,
   "metadata": {},
   "outputs": [],
   "source": [
    "# Let's parse out contact maps, or graphical representations of interactions between individual atoms in amino acid side chains\n",
    "# The distance cutoff is 8.0 angstroms, or 10^-10 meters. This is the typical threshold for a meaningful proximity between atoms.\n",
    "\n",
    "def parse_contact_map(pdb_file, distance_cutoff=8.0):\n",
    "    parser = PDBParser()\n",
    "    structure = parser.get_structure('protein', pdb_file)\n",
    "    \n",
    "    # Initialize contact map matrix\n",
    "    num_atoms = sum(1 for _ in structure.get_atoms())\n",
    "    contact_map = np.zeros((num_atoms, num_atoms), dtype=bool)\n",
    "    \n",
    "    # Calculate distances and populate contact map\n",
    "    for atom1 in structure.get_atoms():\n",
    "        for atom2 in structure.get_atoms():\n",
    "            distance = atom1 - atom2\n",
    "            if distance <= distance_cutoff:\n",
    "                contact_map[atom1.get_id() - 1, atom2.get_id() - 1] = True\n",
    "    \n",
    "    return contact_map\n",
    "\n"
   ]
  },
  {
   "cell_type": "code",
   "execution_count": null,
   "metadata": {},
   "outputs": [],
   "source": [
    "def generate_contact_map(pdb_file, output_dir, distance_cutoff=8.0):\n",
    "    # Parse PDB file and generate contact map\n",
    "    contact_map = parse_contact_map(pdb_file, distance_cutoff)\n",
    "    \n",
    "    # Create output directory if it doesn't exist\n",
    "    if not os.path.exists(output_dir):\n",
    "        os.makedirs(output_dir)\n",
    "    \n",
    "    # Save contact map to output directory\n",
    "    pdb_name = os.path.splitext(os.path.basename(pdb_file))[0]\n",
    "    output_file = os.path.join(output_dir, f'{pdb_name}_contact_map.npy')\n",
    "    np.save(output_file, contact_map)"
   ]
  },
  {
   "cell_type": "code",
   "execution_count": null,
   "metadata": {},
   "outputs": [],
   "source": [
    "#Generate loop so these functions pass through every PDB file inside the output_dir directory.\n",
    "input_dir = 'output_dir'\n",
    "output_dir = 'contact_map_dir'\n",
    "#Use .cif files to generate contact maps, not .pdb\n",
    "for filename in os.listdir(input_dir):\n",
    "    if filename.endswith('.cif'):\n",
    "        pdb_file = os.path.join(input_dir, filename)\n",
    "        generate_contact_map(pdb_file, output_dir)"
   ]
  },
  {
   "cell_type": "code",
   "execution_count": null,
   "metadata": {},
   "outputs": [],
   "source": [
    "\n",
    "#Purge empty contact maps and keep the informative ones. Keeping empty contact maps clogs up the directory and hinders downstream analyses.\n",
    "        \n",
    "def purge_empty_contact_maps(contact_map_dir):\n",
    "    \"\"\"\n",
    "    Purge empty contact maps from the specified directory.\n",
    "    \n",
    "    Parameters:\n",
    "        contact_map_dir (str): Path to the directory containing contact map files.\n",
    "    \"\"\"\n",
    "    for filename in os.listdir(contact_map_dir):\n",
    "        if filename.endswith('.npy'):\n",
    "            contact_map_path = os.path.join(contact_map_dir, filename)\n",
    "            contact_map = np.load(contact_map_path)\n",
    "            if contact_map.size == 0 or contact_map.max() == 0:\n",
    "                os.remove(contact_map_path)\n",
    "                print(f\"Empty contact map '{filename}' removed.\")\n",
    "\n",
    "purge_empty_contact_maps('contact_map_dir')\n",
    "        \n"
   ]
  },
  {
   "cell_type": "code",
   "execution_count": null,
   "metadata": {},
   "outputs": [],
   "source": [
    "#Visualize contact maps generated inside contact_map_dir by using matplotlib inside a function and putting that function in a for loop\n",
    "#Due to lack of meaningful interactions, some contact maps may appear as blank, so we'll have to remove them for later analysis and saving space.\n",
    "\n",
    "def plot_contact_map(contact_map, output_filename):\n",
    "    if contact_map.size == 0:\n",
    "        print(\"Empty contact map, skipping plot.\")\n",
    "        return\n",
    "    \n",
    "    plt.imshow(contact_map, cmap='binary', origin='lower')\n",
    "    plt.xlabel('Residue Index')\n",
    "    plt.ylabel('Residue Index')\n",
    "    plt.title('Contact Map')\n",
    "    plt.colorbar(label='Contact')\n",
    "    plt.savefig(output_filename)\n",
    "    plt.close()"
   ]
  },
  {
   "cell_type": "code",
   "execution_count": null,
   "metadata": {},
   "outputs": [],
   "source": [
    "# First define output directory (at least in the context of this particular notebook)\n",
    "output_dir = 'contact_map_dir'\n",
    "for filename in os.listdir(output_dir):\n",
    "    if filename.endswith('.npy'):\n",
    "        contact_map = np.load(os.path.join(output_dir, filename))\n",
    "        output_filename = os.path.join(output_dir, os.path.splitext(filename)[0] + \".png\")\n",
    "        plot_contact_map(contact_map, output_filename)"
   ]
  },
  {
   "cell_type": "code",
   "execution_count": null,
   "metadata": {},
   "outputs": [],
   "source": []
  }
 ],
 "metadata": {
  "kernelspec": {
   "display_name": "Python 3 (ipykernel)",
   "language": "python",
   "name": "python3"
  },
  "language_info": {
   "codemirror_mode": {
    "name": "ipython",
    "version": 3
   },
   "file_extension": ".py",
   "mimetype": "text/x-python",
   "name": "python",
   "nbconvert_exporter": "python",
   "pygments_lexer": "ipython3",
   "version": "3.10.13"
  }
 },
 "nbformat": 4,
 "nbformat_minor": 4
}
