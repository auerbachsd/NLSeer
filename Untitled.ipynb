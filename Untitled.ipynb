{
 "cells": [
  {
   "cell_type": "code",
   "execution_count": null,
   "id": "5d131724-fbf6-4184-b04a-978eb13d1051",
   "metadata": {},
   "outputs": [],
   "source": [
    "import pandas as pd"
   ]
  },
  {
   "cell_type": "code",
   "execution_count": null,
   "id": "df3a34cc-b854-4da3-9046-255de4186bba",
   "metadata": {},
   "outputs": [],
   "source": [
    "df = pd.read_csv('SortingSignalsSwissprot.csv')"
   ]
  },
  {
   "cell_type": "code",
   "execution_count": null,
   "id": "0e8f8489-e28f-451f-8a30-b5c2d01b6fec",
   "metadata": {},
   "outputs": [],
   "source": [
    "df.rename(columns={'Sequence':'Sequence_full'}, inplace=True)"
   ]
  },
  {
   "cell_type": "code",
   "execution_count": null,
   "id": "bf533228-6b63-4a52-9058-a861c2a536bd",
   "metadata": {},
   "outputs": [],
   "source": [
    "df"
   ]
  },
  {
   "cell_type": "code",
   "execution_count": 85,
   "id": "cc48c6c5-1146-46db-b712-d1273bc21756",
   "metadata": {},
   "outputs": [],
   "source": [
    "new_df = df[df['Types']=='MT']"
   ]
  },
  {
   "cell_type": "code",
   "execution_count": 93,
   "id": "555ad98d-efd6-452e-a8a1-d2b620b123e6",
   "metadata": {},
   "outputs": [],
   "source": [
    "# Define a function to extract motif information\n",
    "def extract_motif_info(sequence, motif_positions):\n",
    "    # Convert the sequence string into a list of characters\n",
    "    sequence_chars = list(sequence)\n",
    "    # If motifs exist, calculate the actual positions in the sequence\n",
    "    if any(motif_positions):\n",
    "        start_pos = min(pos for pos in motif_positions if pos != 0)\n",
    "        end_pos = max(pos for pos in motif_positions if pos != 0)\n",
    "        amino_acids = ''.join(sequence_chars[pos - 1] for pos in motif_positions if pos != 0)\n",
    "    else:\n",
    "        start_pos = None\n",
    "        end_pos = None\n",
    "        amino_acids = \"\"\n",
    "    return start_pos, end_pos, amino_acids\n"
   ]
  },
  {
   "cell_type": "code",
   "execution_count": null,
   "id": "118baddc-4c3e-48f8-9750-685e8458bc67",
   "metadata": {},
   "outputs": [],
   "source": [
    "# Apply the function to create new columns with extracted information\n",
    "new_df['Begin'], new_df['End'], new_df['Sequence_mt'] = zip(*[\n",
    "    extract_motif_info(row['Sequence_full'], row['AnnotEncoded'])\n",
    "    for _, row in new_df.iterrows()\n",
    "])\n",
    "\n",
    "print(new_df)"
   ]
  },
  {
   "cell_type": "code",
   "execution_count": null,
   "id": "9896a943-0ab4-43f6-9102-2b7cccb5fc43",
   "metadata": {},
   "outputs": [],
   "source": []
  },
  {
   "cell_type": "code",
   "execution_count": 95,
   "id": "9e15dabb-d7ec-4fb7-8e53-0d9fdcfd24e5",
   "metadata": {},
   "outputs": [],
   "source": [
    "# Define a function to extract amino acid sequences\n",
    "def extract_amino_acids(sequence, motif_positions):\n",
    "    amino_acids = ''.join(sequence[pos - 1] for pos in motif_positions if pos != 0)\n",
    "    return amino_acids"
   ]
  },
  {
   "cell_type": "code",
   "execution_count": null,
   "id": "ef5f3f12-f808-45d6-9982-dfcea3b7e154",
   "metadata": {},
   "outputs": [],
   "source": [
    "# Apply the function to create a new column with extracted amino acid sequences\n",
    "new_df['Amino_Acids'] = new_df.apply(lambda row: extract_amino_acids(row['Sequence_full'], row['AnnotEncoded']), axis=1)\n",
    "\n",
    "print(new_df)"
   ]
  },
  {
   "cell_type": "code",
   "execution_count": 97,
   "id": "8aff84a3-0ab4-4012-8fab-99e4ac5c337f",
   "metadata": {},
   "outputs": [],
   "source": [
    "# Define a function to extract amino acid sequences\n",
    "def extract_amino_acids(sequence, motif_positions):\n",
    "    amino_acids = ''.join(sequence[pos - 1] for pos in motif_positions if pos != 0)\n",
    "    return amino_acids"
   ]
  },
  {
   "cell_type": "code",
   "execution_count": 106,
   "id": "7838b60e-8584-498a-b977-07034cdc4422",
   "metadata": {},
   "outputs": [],
   "source": [
    "# Define a function to convert values to integers safely\n",
    "def safe_int(val):\n",
    "    try:\n",
    "        return int(val)\n",
    "    except (ValueError, OverflowError):\n",
    "        return float('nan')"
   ]
  },
  {
   "cell_type": "code",
   "execution_count": null,
   "id": "0721038e-d031-4da7-ae68-b219f8b4bcf5",
   "metadata": {},
   "outputs": [],
   "source": [
    "# Define a function to extract amino acid sequences\n",
    "def extract_amino_acids(sequence, motif_positions):\n",
    "    amino_acids = ''.join(sequence[pos - 1] for pos in motif_positions if pos != 0)\n",
    "    return amino_acids"
   ]
  },
  {
   "cell_type": "code",
   "execution_count": null,
   "id": "ec58d290-bdd8-4055-8911-b202ac03f8c8",
   "metadata": {},
   "outputs": [],
   "source": [
    "# Convert the list of lists into a single list of integers\n",
    "new_df['AnnotEncoded'] = new_df['AnnotEncoded'].explode().apply(safe_int)\n"
   ]
  },
  {
   "cell_type": "code",
   "execution_count": null,
   "id": "12d275ad-b73d-4d2b-bbca-a474251b62fe",
   "metadata": {},
   "outputs": [],
   "source": [
    "# Define a function to extract amino acid sequences\n",
    "def extract_amino_acids(sequence, motif_positions):\n",
    "    amino_acids = ''.join(sequence[pos - 1] for pos in motif_positions if pos != 0)\n",
    "    return amino_acids\n",
    "\n"
   ]
  },
  {
   "cell_type": "code",
   "execution_count": null,
   "id": "c7aa8993-0f50-4f9b-b801-922d732c1f4c",
   "metadata": {},
   "outputs": [],
   "source": [
    "# Apply the function to create a new column with extracted amino acid sequences\n",
    "new_df['Amino_Acids'] = new_df.apply(lambda row: extract_amino_acids(row['Sequence_full'], row['AnnotEncoded']), axis=1)\n"
   ]
  },
  {
   "cell_type": "code",
   "execution_count": null,
   "id": "0c256579-ccc5-4597-bac6-1f091fc63ede",
   "metadata": {},
   "outputs": [],
   "source": []
  }
 ],
 "metadata": {
  "kernelspec": {
   "display_name": "Python 3 (ipykernel)",
   "language": "python",
   "name": "python3"
  },
  "language_info": {
   "codemirror_mode": {
    "name": "ipython",
    "version": 3
   },
   "file_extension": ".py",
   "mimetype": "text/x-python",
   "name": "python",
   "nbconvert_exporter": "python",
   "pygments_lexer": "ipython3",
   "version": "3.10.13"
  }
 },
 "nbformat": 4,
 "nbformat_minor": 5
}
